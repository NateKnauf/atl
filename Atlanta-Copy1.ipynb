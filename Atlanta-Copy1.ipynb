{
 "cells": [
  {
   "cell_type": "code",
   "execution_count": 1,
   "metadata": {},
   "outputs": [],
   "source": [
    "import census_mapper\n",
    "from zipfile import ZipFile\n",
    "import io\n",
    "import shapefile\n",
    "from shapely.geometry import shape\n",
    "import osr\n",
    "import geopandas as gpd\n",
    "import matplotlib.pyplot as plt\n",
    "import csv\n",
    "import numpy as np\n",
    "import folium\n",
    "import random\n",
    "import pysal"
   ]
  },
  {
   "cell_type": "code",
   "execution_count": 98,
   "metadata": {},
   "outputs": [],
   "source": [
    "results = {}\n",
    "results2 = {}\n",
    "with open(\"nov7results.csv\") as csvfile:\n",
    "    reader = csv.DictReader(csvfile)\n",
    "    for row in reader:\n",
    "        results[row['Precinct']] = row['FP']\n",
    "        results2[row['Precinct']] = row['Fort']"
   ]
  },
  {
   "cell_type": "code",
   "execution_count": 31,
   "metadata": {
    "scrolled": false
   },
   "outputs": [
    {
     "name": "stdout",
     "output_type": "stream",
     "text": [
      "+proj=longlat +ellps=GRS80 +no_defs \n",
      "       AREA COUNTY COUNTY_NAM   CTYNAME CTYNUMBER CTYSOSID  DATA DISTRICT  \\\n",
      "0  1.864348    036   COLUMBIA  Columbia        36   073131   690   073131   \n",
      "1  1.636596    036   COLUMBIA  Columbia        36   073064   714   073064   \n",
      "2  5.598643    036   COLUMBIA  Columbia        36   073061   711   073061   \n",
      "3  0.872412    036   COLUMBIA  Columbia        36   073063   713   073063   \n",
      "4  3.783726    036   COLUMBIA  Columbia        36   073132   691   073132   \n",
      "\n",
      "   FIPS1 FIPS2       ID  POPULATION PRECINCT_I            PRECINCT_N  \\\n",
      "0  13073   073  6094217        1013        131  JOURNEY COMM. CHURCH   \n",
      "1  13073   073  6094266        3858        064  GRACE BAPTIST CHURCH   \n",
      "2  13073   073  6094297        1920        061       GREENBRIER HIGH   \n",
      "3  13073   073  6094341        1770        063  RIVERSIDE ELEMENTARY   \n",
      "4  13073   073  6094377        3131        132      WESLEY METHODIST   \n",
      "\n",
      "                                            geometry  \n",
      "0  POLYGON ((-82.14546199999999 33.57854, -82.145...  \n",
      "1  POLYGON ((-82.16342400000001 33.574227, -82.16...  \n",
      "2  POLYGON ((-82.16580999999999 33.564983, -82.16...  \n",
      "3  POLYGON ((-82.139089 33.575924, -82.139141 33....  \n",
      "4  POLYGON ((-82.14330200000001 33.573481, -82.14...  \n"
     ]
    }
   ],
   "source": [
    "blocks = ZipFile('VTD2016-Shape.zip')\n",
    "filenames = [y for y in sorted(blocks.namelist()) for ending in ['DBF', 'prj', 'shp', 'shx'] if y.endswith(ending)] \n",
    "dbf, prj, shp, shx = [io.BytesIO(blocks.read(filename)) for filename in filenames]\n",
    "\n",
    "r = shapefile.Reader(shp=shp, shx=shx, dbf=dbf)\n",
    "\n",
    "attributes, geometry = [], []\n",
    "field_names = [field[0] for field in r.fields[1:]]  \n",
    "for row in r.shapeRecords():  \n",
    "    geometry.append(shape(row.shape.__geo_interface__))  \n",
    "    attributes.append(dict(zip(field_names, row.record)))  \n",
    "\n",
    "proj4_string = osr.SpatialReference(prj.read().decode('UTF-8')).ExportToProj4()\n",
    "print(proj4_string)\n",
    "\n",
    "blockgdf = gpd.GeoDataFrame(data = attributes, geometry = geometry, crs = proj4_string)\n",
    "print(blockgdf.head())"
   ]
  },
  {
   "cell_type": "code",
   "execution_count": 32,
   "metadata": {},
   "outputs": [
    {
     "name": "stdout",
     "output_type": "stream",
     "text": [
      "+proj=longlat +ellps=WGS84 +no_defs \n",
      "     ACRES                                GLOBALID  ID    LABEL  OBJECTID  \\\n",
      "0  86643.1  {6999F328-8F07-4EE0-BF8C-4DB531A3898C}   0  Atlanta         1   \n",
      "\n",
      "   OBJECTID_1    SHAPE_Area     SHAPE_Leng  SQ_MILES  \\\n",
      "0           1  5.087264e+08  195314.168371    135.38   \n",
      "\n",
      "                                            geometry  \n",
      "0  (POLYGON ((-84.42135081494511 33.6588738469827...  \n"
     ]
    }
   ],
   "source": [
    "atl = ZipFile('Atlanta_City_Limits.zip')\n",
    "filenames = [y for y in sorted(atl.namelist()) for ending in ['dbf', 'prj', 'shp', 'shx'] if y.endswith(ending)] \n",
    "dbf, prj, shp, shx = [io.BytesIO(atl.read(filename)) for filename in filenames]\n",
    "\n",
    "r = shapefile.Reader(shp=shp, shx=shx, dbf=dbf)\n",
    "\n",
    "attributes, geometry = [], []\n",
    "field_names = [field[0] for field in r.fields[1:]]  \n",
    "for row in r.shapeRecords():  \n",
    "    geometry.append(shape(row.shape.__geo_interface__))  \n",
    "    attributes.append(dict(zip(field_names, row.record)))  \n",
    "\n",
    "proj4_string = osr.SpatialReference(prj.read().decode('UTF-8')).ExportToProj4()\n",
    "print(proj4_string)\n",
    "\n",
    "atlgdf = gpd.GeoDataFrame(data = attributes, geometry = geometry, crs = proj4_string)\n",
    "print(atlgdf.head())"
   ]
  },
  {
   "cell_type": "code",
   "execution_count": 110,
   "metadata": {},
   "outputs": [
    {
     "name": "stderr",
     "output_type": "stream",
     "text": [
      "c:\\program files (x86)\\python35-32\\lib\\site-packages\\ipykernel_launcher.py:3: SettingWithCopyWarning: \n",
      "A value is trying to be set on a copy of a slice from a DataFrame.\n",
      "Try using .loc[row_indexer,col_indexer] = value instead\n",
      "\n",
      "See the caveats in the documentation: http://pandas.pydata.org/pandas-docs/stable/indexing.html#indexing-view-versus-copy\n",
      "  This is separate from the ipykernel package so we can avoid doing imports until\n",
      "c:\\program files (x86)\\python35-32\\lib\\site-packages\\ipykernel_launcher.py:4: SettingWithCopyWarning: \n",
      "A value is trying to be set on a copy of a slice from a DataFrame.\n",
      "Try using .loc[row_indexer,col_indexer] = value instead\n",
      "\n",
      "See the caveats in the documentation: http://pandas.pydata.org/pandas-docs/stable/indexing.html#indexing-view-versus-copy\n",
      "  after removing the cwd from sys.path.\n",
      "c:\\program files (x86)\\python35-32\\lib\\site-packages\\ipykernel_launcher.py:5: SettingWithCopyWarning: \n",
      "A value is trying to be set on a copy of a slice from a DataFrame.\n",
      "Try using .loc[row_indexer,col_indexer] = value instead\n",
      "\n",
      "See the caveats in the documentation: http://pandas.pydata.org/pandas-docs/stable/indexing.html#indexing-view-versus-copy\n",
      "  \"\"\"\n",
      "c:\\program files (x86)\\python35-32\\lib\\site-packages\\ipykernel_launcher.py:6: SettingWithCopyWarning: \n",
      "A value is trying to be set on a copy of a slice from a DataFrame.\n",
      "Try using .loc[row_indexer,col_indexer] = value instead\n",
      "\n",
      "See the caveats in the documentation: http://pandas.pydata.org/pandas-docs/stable/indexing.html#indexing-view-versus-copy\n",
      "  \n",
      "c:\\program files (x86)\\python35-32\\lib\\site-packages\\ipykernel_launcher.py:7: SettingWithCopyWarning: \n",
      "A value is trying to be set on a copy of a slice from a DataFrame.\n",
      "Try using .loc[row_indexer,col_indexer] = value instead\n",
      "\n",
      "See the caveats in the documentation: http://pandas.pydata.org/pandas-docs/stable/indexing.html#indexing-view-versus-copy\n",
      "  import sys\n"
     ]
    }
   ],
   "source": [
    "blockgdf = blockgdf[blockgdf.geometry.is_valid == True]\n",
    "fultongdf = blockgdf[blockgdf.geometry.intersects(atlgdf.geometry[0])]\n",
    "fultongdf['FortP'] = list(0 for i in range(len(fultongdf.index)))\n",
    "fultongdf['Fort'] = list(0 for i in range(len(fultongdf.index)))\n",
    "fultongdf['FortA'] = list(0 for i in range(len(fultongdf.index)))\n",
    "fultongdf['FortPC'] = list(0 for i in range(len(fultongdf.index)))\n",
    "fultongdf['valid'] = list(1 for i in range(len(fultongdf.index)))"
   ]
  },
  {
   "cell_type": "code",
   "execution_count": 112,
   "metadata": {
    "scrolled": true
   },
   "outputs": [
    {
     "name": "stderr",
     "output_type": "stream",
     "text": [
      "c:\\program files (x86)\\python35-32\\lib\\site-packages\\pandas\\core\\indexing.py:465: SettingWithCopyWarning: \n",
      "A value is trying to be set on a copy of a slice from a DataFrame.\n",
      "Try using .loc[row_indexer,col_indexer] = value instead\n",
      "\n",
      "See the caveats in the documentation: http://pandas.pydata.org/pandas-docs/stable/indexing.html#indexing-view-versus-copy\n",
      "  self.obj[item] = s\n"
     ]
    },
    {
     "name": "stdout",
     "output_type": "stream",
     "text": [
      "155\n"
     ]
    }
   ],
   "source": [
    "c = 0\n",
    "for i, row in fultongdf.iterrows():\n",
    "    pre = row['PRECINCT_N']\n",
    "    if pre in results:\n",
    "        if len(results[pre]) > 0:\n",
    "            fultongdf.loc[i,'FortP'] = float(results[pre])\n",
    "            fultongdf.loc[i,'Fort'] = float(results2[pre])\n",
    "            fultongdf.loc[i,'FortA'] = float(results2[pre]) / row['AREA']\n",
    "            if row['POPULATION'] == 0:\n",
    "                fultongdf.loc[i, 'FortPC'] = 0\n",
    "            else:\n",
    "                fultongdf.loc[i,'FortPC'] = float(results2[pre]) / row['POPULATION']\n",
    "            c += 1\n",
    "    else:\n",
    "        fultongdf.loc[i,'valid'] = 0\n",
    "\n",
    "print(c)\n",
    "fultongdf = fultongdf[fultongdf['valid'] == 1]"
   ]
  },
  {
   "cell_type": "code",
   "execution_count": 113,
   "metadata": {},
   "outputs": [],
   "source": [
    "m = folium.Map(location=[33.75, -84.4], zoom_start=10.9, \n",
    "               tiles='Stamen Toner')\n",
    "\n",
    "#threshold_scale = np.linspace(blockgdf['INCOME'].min(),\n",
    "#                              blockgdf['INCOME'].max(), 6, dtype=int).tolist()\n",
    "geo_str = (fultongdf).to_json()\n",
    "\n",
    "#linear = folium.colormap.LinearColormap(['green', 'yellow', 'red'])\n",
    "m.choropleth(geo_str=geo_str,\n",
    "             data=fultongdf,columns=['ID','FortPC'],\n",
    "             key_on='feature.properties.ID',\n",
    "             fill_color=\"BuGn\", \n",
    "             fill_opacity=0.8, line_opacity=0.8,\n",
    "             legend_name='area')\n",
    "\n",
    "#print(blockgo['Vincent Fort'])\n",
    "\n",
    "atlgeo = atlgdf.to_json()\n",
    "m.choropleth(geo_str=atlgeo, fill_color='None', line_color='black', line_weight=2)\n",
    "\n",
    "m\n",
    "m.save(\"FortPCVote.html\")"
   ]
  },
  {
   "cell_type": "code",
   "execution_count": null,
   "metadata": {},
   "outputs": [],
   "source": [
    "plt.clf()\n",
    "\n",
    "fig, ax = plt.subplots(figsize=(10,10))\n",
    "\n",
    "fultongdf\n",
    "fultongdf.plot(ax = ax, column='FortP')\n",
    "\n",
    "\n",
    "plt.xlim((-84.58,-84.28))\n",
    "plt.ylim((33.62,33.92))\n",
    "\n",
    "plt.show()"
   ]
  },
  {
   "cell_type": "code",
   "execution_count": 27,
   "metadata": {
    "scrolled": true
   },
   "outputs": [
    {
     "name": "stdout",
     "output_type": "stream",
     "text": [
      "909\n"
     ]
    }
   ],
   "source": [
    "blocks = {}\n",
    "with open(\"Income.csv\", \"r\") as csvfile:\n",
    "    reader = csv.DictReader(csvfile)\n",
    "    for row in reader:\n",
    "        blocks[row['Id2']] = [row['Median']]\n",
    "print(len(blocks))\n",
    "i = 0\n",
    "with open(\"Race.csv\", \"r\") as csvfile:\n",
    "    reader = csv.DictReader(csvfile)\n",
    "    for row in reader:\n",
    "        if row['Id2'] in blocks:\n",
    "            blocks[row['Id2']] += [row['Estimate'], row['White'], row['Black'], row['Other']]\n",
    "ageids = []\n",
    "for i in range(50):\n",
    "    text = 'HD01_VD'\n",
    "    if i < 10:\n",
    "        text += '0'    \n",
    "    text += str(i)\n",
    "    ageids += [text]\n",
    "#print(ageids)\n",
    "with open(\"Age.csv\", \"r\") as csvfile:\n",
    "    reader = csv.DictReader(csvfile)\n",
    "    for row in reader:\n",
    "        #print(row.keys())\n",
    "        if row['GEO.id2'] in blocks:\n",
    "            #print(\"hey\")\n",
    "            male = int(row['HD01_VD02'])\n",
    "            female = int(row['HD01_VD26'])\n",
    "            #print(ageids[7:13]+ageids[31:37])\n",
    "            young = 0\n",
    "            mid = 0\n",
    "            old = 0\n",
    "            for ind in ageids[7:13]+ageids[31:37]:\n",
    "                young += int(row[ind])\n",
    "            for ind in ageids[13:20]+ageids[37:44]:\n",
    "                mid += int(row[ind])\n",
    "            for ind in ageids[20:26]+ageids[44:]:\n",
    "                old += int(row[ind])\n",
    "            blocks[row['GEO.id2']] += [male, female, young, mid, old]\n",
    "            #print(blocks[row['GEO.id2']])\n",
    "for block in blocks:\n",
    "    for i, ent in enumerate(blocks[block]):\n",
    "        #print(ent)\n",
    "        blocks[block][i] = int(str(ent).replace(\"+\",\"\").replace(\",\",\"\").replace(\"-\",\"0\"))\n",
    "    #for i, ent in enumerate(blocks[block]):\n",
    "    #    if i > 1 and blocks[block][1] > 0:\n",
    "    #        blocks[block][i] = 100 * blocks[block][i] / blocks[block][1]\n",
    "        \n",
    "#print(blocks)\n",
    "#for geoid in blockgdf['geoid']"
   ]
  },
  {
   "cell_type": "code",
   "execution_count": 28,
   "metadata": {
    "scrolled": false
   },
   "outputs": [
    {
     "ename": "AttributeError",
     "evalue": "'GeoDataFrame' object has no attribute 'GEOID'",
     "output_type": "error",
     "traceback": [
      "\u001b[0;31m---------------------------------------------------------------------------\u001b[0m",
      "\u001b[0;31mAttributeError\u001b[0m                            Traceback (most recent call last)",
      "\u001b[0;32m<ipython-input-28-64ea7990a424>\u001b[0m in \u001b[0;36m<module>\u001b[0;34m()\u001b[0m\n\u001b[1;32m      1\u001b[0m \u001b[0marr\u001b[0m \u001b[1;33m=\u001b[0m \u001b[1;33m[\u001b[0m\u001b[1;33m]\u001b[0m\u001b[1;33m\u001b[0m\u001b[0m\n\u001b[1;32m      2\u001b[0m \u001b[1;33m\u001b[0m\u001b[0m\n\u001b[0;32m----> 3\u001b[0;31m \u001b[1;32mfor\u001b[0m \u001b[0mgeoid\u001b[0m \u001b[1;32min\u001b[0m \u001b[0mblockgdf\u001b[0m\u001b[1;33m.\u001b[0m\u001b[0mGEOID\u001b[0m\u001b[1;33m:\u001b[0m\u001b[1;33m\u001b[0m\u001b[0m\n\u001b[0m\u001b[1;32m      4\u001b[0m     \u001b[1;31m#print(geoid)\u001b[0m\u001b[1;33m\u001b[0m\u001b[1;33m\u001b[0m\u001b[0m\n\u001b[1;32m      5\u001b[0m     \u001b[1;32mif\u001b[0m \u001b[0mstr\u001b[0m\u001b[1;33m(\u001b[0m\u001b[0mgeoid\u001b[0m\u001b[1;33m)\u001b[0m \u001b[1;32min\u001b[0m \u001b[0mblocks\u001b[0m\u001b[1;33m:\u001b[0m\u001b[1;33m\u001b[0m\u001b[0m\n",
      "\u001b[0;32mc:\\program files (x86)\\python35-32\\lib\\site-packages\\pandas\\core\\generic.py\u001b[0m in \u001b[0;36m__getattr__\u001b[0;34m(self, name)\u001b[0m\n\u001b[1;32m   2670\u001b[0m             \u001b[1;32mif\u001b[0m \u001b[0mname\u001b[0m \u001b[1;32min\u001b[0m \u001b[0mself\u001b[0m\u001b[1;33m.\u001b[0m\u001b[0m_info_axis\u001b[0m\u001b[1;33m:\u001b[0m\u001b[1;33m\u001b[0m\u001b[0m\n\u001b[1;32m   2671\u001b[0m                 \u001b[1;32mreturn\u001b[0m \u001b[0mself\u001b[0m\u001b[1;33m[\u001b[0m\u001b[0mname\u001b[0m\u001b[1;33m]\u001b[0m\u001b[1;33m\u001b[0m\u001b[0m\n\u001b[0;32m-> 2672\u001b[0;31m             \u001b[1;32mreturn\u001b[0m \u001b[0mobject\u001b[0m\u001b[1;33m.\u001b[0m\u001b[0m__getattribute__\u001b[0m\u001b[1;33m(\u001b[0m\u001b[0mself\u001b[0m\u001b[1;33m,\u001b[0m \u001b[0mname\u001b[0m\u001b[1;33m)\u001b[0m\u001b[1;33m\u001b[0m\u001b[0m\n\u001b[0m\u001b[1;32m   2673\u001b[0m \u001b[1;33m\u001b[0m\u001b[0m\n\u001b[1;32m   2674\u001b[0m     \u001b[1;32mdef\u001b[0m \u001b[0m__setattr__\u001b[0m\u001b[1;33m(\u001b[0m\u001b[0mself\u001b[0m\u001b[1;33m,\u001b[0m \u001b[0mname\u001b[0m\u001b[1;33m,\u001b[0m \u001b[0mvalue\u001b[0m\u001b[1;33m)\u001b[0m\u001b[1;33m:\u001b[0m\u001b[1;33m\u001b[0m\u001b[0m\n",
      "\u001b[0;31mAttributeError\u001b[0m: 'GeoDataFrame' object has no attribute 'GEOID'"
     ]
    }
   ],
   "source": [
    "arr = []\n",
    "\n",
    "for geoid in blockgdf.GEOID:\n",
    "    #print(geoid)\n",
    "    if str(geoid) in blocks:\n",
    "        arr.append(blocks[str(geoid)])\n",
    "    else:\n",
    "        arr.append([0]*10)\n",
    "    \n",
    "#print(len(blockgdf.GEOID))\n",
    "#print(len(arr))\n",
    "\n",
    "arr = np.asarray(arr)\n",
    "\n",
    "feats = ['INCOME', 'POP', 'WHITE', 'BLACK', 'OTHER_RACE', 'MALE', 'FEMALE', 'YOUNG', 'MIDAGE', 'OLD']\n",
    "\n",
    "for i, feat in enumerate(feats):\n",
    "    blockgdf[feat] = arr[:, i]\n",
    "    blockgdf[feat+\"A\"] = arr[:, i]/(blockgdf.ALAND+blockgdf.AWATER)\n",
    "    if i > 1:\n",
    "        q = [0]*len(arr[:, i])\n",
    "        for ind, a in enumerate(q):\n",
    "            if arr[ind, 1] == 0:\n",
    "                q[ind] = 0\n",
    "            else:\n",
    "                q[ind] = arr[ind, i]/arr[ind,1]\n",
    "        blockgdf[feat+\"P\"] = q\n",
    "\n",
    "candidates = {}\n",
    "with open(\"poll.csv\", \"r\") as csvfile:\n",
    "    reader = csv.DictReader(csvfile)\n",
    "    for row in reader:\n",
    "        candidates[row['Candidate']] = [row['Total'], row['Young'], row['Mid'], row['Old'], row['White'], row['Black'], row['Other']]\n",
    "        for i, c in enumerate(candidates[row['Candidate']]):\n",
    "            candidates[row['Candidate']][i] = float(candidates[row['Candidate']][i])\n",
    "#print(candidates)\n",
    "\n",
    "\n",
    "blockgo = blockgdf[blockgdf.geometry.intersects(atlgdf.geometry[0])]\n",
    "blockgo = blockgo[blockgo.POP > 0]\n",
    "blockgo = blockgo[blockgo.GEOID != 131210103042]\n",
    "\n",
    "\n",
    "\n",
    "tote = sum(blockgo['MALE']+blockgo['FEMALE'])\n",
    "\n",
    "#participation = \n",
    "\n",
    "youngp = sum(blockgo['YOUNG'])\n",
    "midagep = sum(blockgo['MIDAGE'])\n",
    "oldp = sum(blockgo['OLD'])\n",
    "whitep = sum(blockgo['WHITE'])\n",
    "blackp = sum(blockgo['BLACK'])\n",
    "otherp = sum(blockgo['OTHER_RACE'])\n",
    "pops = [1, youngp, midagep, oldp, whitep, blackp, otherp]\n",
    "print(pops)\n",
    "\n",
    "candidates['Weight'] = [c/candidates['Weight'][0] for i, c in enumerate(candidates['Weight'])]\n",
    "\n",
    "votes = 80000\n",
    "turnout = [c*votes for c in candidates['Weight']]\n",
    "turnoutrate = [t/pops[i] for i, t in enumerate(turnout)]\n",
    "print(turnout)\n",
    "print(turnoutrate)\n",
    "\n",
    "print(candidates['Weight'])\n",
    "for dude in candidates:\n",
    "    for i in range(5):\n",
    "        candidates[dude][i+1] *= turnoutrate[i+1]\n",
    "    if not dude == \"Weight\":\n",
    "        cage = [0]*len(blockgdf)\n",
    "        crace = [0]*len(blockgdf)\n",
    "        c = [0]*len(blockgdf)\n",
    "        print(dude + str(candidates[dude]))\n",
    "        for i in range(len(blockgdf)):\n",
    "            if blockgdf['POP'][i] == 0:\n",
    "                c[i] = 0\n",
    "            else:\n",
    "                #print(candidates[dude])\n",
    "                cage[i] = candidates[dude][1]*blockgdf['YOUNG'][i]\n",
    "                cage[i] += candidates[dude][2]*blockgdf['MIDAGE'][i]\n",
    "                cage[i] += candidates[dude][3]*blockgdf['OLD'][i]\n",
    "                #cage[i] = cage[i] / candidates['Weight'][0]\n",
    "                crace[i] = candidates[dude][4]*blockgdf['WHITE'][i]\n",
    "                crace[i] += candidates[dude][5]*blockgdf['BLACK'][i]\n",
    "                crace[i] += candidates[dude][6]*blockgdf['OTHER_RACE'][i]\n",
    "                #crace[i] = crace[i] / candidates['Weight'][0]\n",
    "                #print(cage[i])\n",
    "                #print(crace[i])\n",
    "                cage[i] = cage[i] / blockgdf['POP'][i]\n",
    "                crace[i] = crace[i] / blockgdf['POP'][i]\n",
    "                c[i] = (cage[i] + crace[i])/200\n",
    "                #print(c[i])\n",
    "            \n",
    "        #print(len(blockgo))\n",
    "        #print(len(c))\n",
    "        blockgdf[dude] = c\n",
    "        \n",
    "blockgo = blockgdf[blockgdf.geometry.intersects(atlgdf.geometry[0])]\n",
    "blockgo = blockgo[blockgo.POP > 0]\n",
    "blockgo = blockgo[blockgo.GEOID != 131210103042]\n",
    "\n"
   ]
  },
  {
   "cell_type": "code",
   "execution_count": 29,
   "metadata": {},
   "outputs": [
    {
     "ename": "NameError",
     "evalue": "name 'blockgo' is not defined",
     "output_type": "error",
     "traceback": [
      "\u001b[0;31m---------------------------------------------------------------------------\u001b[0m",
      "\u001b[0;31mNameError\u001b[0m                                 Traceback (most recent call last)",
      "\u001b[0;32m<ipython-input-29-da50bb067863>\u001b[0m in \u001b[0;36m<module>\u001b[0;34m()\u001b[0m\n\u001b[1;32m      4\u001b[0m \u001b[1;31m#threshold_scale = np.linspace(blockgdf['INCOME'].min(),\u001b[0m\u001b[1;33m\u001b[0m\u001b[1;33m\u001b[0m\u001b[0m\n\u001b[1;32m      5\u001b[0m \u001b[1;31m#                              blockgdf['INCOME'].max(), 6, dtype=int).tolist()\u001b[0m\u001b[1;33m\u001b[0m\u001b[1;33m\u001b[0m\u001b[0m\n\u001b[0;32m----> 6\u001b[0;31m \u001b[0mgeo_str\u001b[0m \u001b[1;33m=\u001b[0m \u001b[1;33m(\u001b[0m\u001b[0mblockgo\u001b[0m\u001b[1;33m)\u001b[0m\u001b[1;33m.\u001b[0m\u001b[0mto_json\u001b[0m\u001b[1;33m(\u001b[0m\u001b[1;33m)\u001b[0m\u001b[1;33m\u001b[0m\u001b[0m\n\u001b[0m\u001b[1;32m      7\u001b[0m \u001b[1;33m\u001b[0m\u001b[0m\n\u001b[1;32m      8\u001b[0m \u001b[1;31m#linear = folium.colormap.LinearColormap(['green', 'yellow', 'red'])\u001b[0m\u001b[1;33m\u001b[0m\u001b[1;33m\u001b[0m\u001b[0m\n",
      "\u001b[0;31mNameError\u001b[0m: name 'blockgo' is not defined"
     ]
    }
   ],
   "source": [
    "m = folium.Map(location=[33.75, -84.4], zoom_start=11, \n",
    "               tiles='Stamen Toner')\n",
    "\n",
    "#threshold_scale = np.linspace(blockgdf['INCOME'].min(),\n",
    "#                              blockgdf['INCOME'].max(), 6, dtype=int).tolist()\n",
    "geo_str = (blockgo).to_json()\n",
    "\n",
    "#linear = folium.colormap.LinearColormap(['green', 'yellow', 'red'])\n",
    "m.choropleth(geo_str=geo_str,\n",
    "             data=blockgo,columns=['GEOID','Vincent Fort'],\n",
    "             key_on='feature.properties.GEOID',\n",
    "             fill_color=\"BuGn\", \n",
    "             fill_opacity=0.8, line_opacity=0.8,\n",
    "             legend_name='area')\n",
    "\n",
    "#print(blockgo['Vincent Fort'])\n",
    "\n",
    "atlgeo = atlgdf.to_json()\n",
    "m.choropleth(geo_str=atlgeo, fill_color='None', line_color='black', line_weight=2)\n",
    "\n",
    "m\n",
    "#m.save(\"Map.html\")"
   ]
  },
  {
   "cell_type": "code",
   "execution_count": 30,
   "metadata": {},
   "outputs": [
    {
     "ename": "NameError",
     "evalue": "name 'blockgo' is not defined",
     "output_type": "error",
     "traceback": [
      "\u001b[0;31m---------------------------------------------------------------------------\u001b[0m",
      "\u001b[0;31mNameError\u001b[0m                                 Traceback (most recent call last)",
      "\u001b[0;32m<ipython-input-30-5c9fe38c1322>\u001b[0m in \u001b[0;36m<module>\u001b[0;34m()\u001b[0m\n\u001b[1;32m      9\u001b[0m \u001b[1;31m#print(mask)\u001b[0m\u001b[1;33m\u001b[0m\u001b[1;33m\u001b[0m\u001b[0m\n\u001b[1;32m     10\u001b[0m \u001b[1;33m\u001b[0m\u001b[0m\n\u001b[0;32m---> 11\u001b[0;31m \u001b[0mblockgo\u001b[0m\u001b[1;33m.\u001b[0m\u001b[0mplot\u001b[0m\u001b[1;33m(\u001b[0m\u001b[0max\u001b[0m \u001b[1;33m=\u001b[0m \u001b[0max\u001b[0m\u001b[1;33m,\u001b[0m \u001b[0mcolumn\u001b[0m\u001b[1;33m=\u001b[0m\u001b[1;34m'INCOME'\u001b[0m\u001b[1;33m,\u001b[0m \u001b[0medgecolor\u001b[0m\u001b[1;33m=\u001b[0m\u001b[1;34m'grey'\u001b[0m\u001b[1;33m,\u001b[0m \u001b[0mscheme\u001b[0m\u001b[1;33m=\u001b[0m\u001b[1;34m'QUANTILES'\u001b[0m\u001b[1;33m,\u001b[0m \u001b[0mlegend\u001b[0m\u001b[1;33m=\u001b[0m\u001b[1;32mTrue\u001b[0m\u001b[1;33m)\u001b[0m\u001b[1;33m\u001b[0m\u001b[0m\n\u001b[0m\u001b[1;32m     12\u001b[0m \u001b[1;31m#blockgdf[blockgdf.geometry.within(atlgdf.geometry[0])].plot(ax = ax)\u001b[0m\u001b[1;33m\u001b[0m\u001b[1;33m\u001b[0m\u001b[0m\n\u001b[1;32m     13\u001b[0m \u001b[0matlgdf\u001b[0m\u001b[1;33m.\u001b[0m\u001b[0mplot\u001b[0m\u001b[1;33m(\u001b[0m\u001b[0max\u001b[0m\u001b[1;33m=\u001b[0m\u001b[0max\u001b[0m\u001b[1;33m,\u001b[0m \u001b[0mfacecolor\u001b[0m\u001b[1;33m=\u001b[0m\u001b[1;34m'none'\u001b[0m\u001b[1;33m,\u001b[0m \u001b[0malpha\u001b[0m\u001b[1;33m=\u001b[0m\u001b[1;36m0.4\u001b[0m\u001b[1;33m,\u001b[0m \u001b[0mls\u001b[0m\u001b[1;33m=\u001b[0m\u001b[1;34m'--'\u001b[0m\u001b[1;33m)\u001b[0m\u001b[1;33m\u001b[0m\u001b[0m\n",
      "\u001b[0;31mNameError\u001b[0m: name 'blockgo' is not defined"
     ]
    }
   ],
   "source": [
    "plt.clf()\n",
    "\n",
    "fig, ax = plt.subplots(figsize=(10,10))\n",
    "blockgdf['rand'] = [random.randint(0, 10) for x in range(0, len(blockgdf))]\n",
    "#print(blockgdf['rand'])\n",
    "\n",
    "#blockgdf = blockgdf[blockgdf.GEOID != 131210103042]\n",
    "#mask2 = \n",
    "#print(mask)\n",
    "\n",
    "blockgo.plot(ax = ax, column='INCOME', edgecolor='grey', scheme='QUANTILES', legend=True)\n",
    "#blockgdf[blockgdf.geometry.within(atlgdf.geometry[0])].plot(ax = ax)\n",
    "atlgdf.plot(ax=ax, facecolor='none', alpha=0.4, ls='--')\n",
    "\n",
    "plt.xlim((-84.58,-84.28))\n",
    "plt.ylim((33.62,33.92))\n",
    "\n",
    "plt.show()"
   ]
  },
  {
   "cell_type": "code",
   "execution_count": null,
   "metadata": {
    "collapsed": true
   },
   "outputs": [],
   "source": []
  },
  {
   "cell_type": "code",
   "execution_count": null,
   "metadata": {
    "collapsed": true
   },
   "outputs": [],
   "source": []
  }
 ],
 "metadata": {
  "kernelspec": {
   "display_name": "Python 3",
   "language": "python",
   "name": "python3"
  },
  "language_info": {
   "codemirror_mode": {
    "name": "ipython",
    "version": 3
   },
   "file_extension": ".py",
   "mimetype": "text/x-python",
   "name": "python",
   "nbconvert_exporter": "python",
   "pygments_lexer": "ipython3",
   "version": "3.5.2"
  }
 },
 "nbformat": 4,
 "nbformat_minor": 2
}
