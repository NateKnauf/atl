{
 "cells": [
  {
   "cell_type": "code",
   "execution_count": 1,
   "metadata": {
    "collapsed": true
   },
   "outputs": [],
   "source": [
    "import census_mapper\n",
    "from zipfile import ZipFile\n",
    "import io\n",
    "import shapefile\n",
    "from shapely.geometry import shape\n",
    "import osr\n",
    "import geopandas as gpd\n",
    "import matplotlib.pyplot as plt\n",
    "import csv\n",
    "import numpy as np\n",
    "import folium\n",
    "import random\n",
    "import pysal\n",
    "from tqdm import tqdm\n",
    "#http://results.enr.clarityelections.com/GA/Fulton/71487/Web02/#/cid/40\n",
    "#http://results.enr.clarityelections.com/GA/DeKalb/71471/Web02/#/cid/200\n",
    "candidates = ['PeterAman', 'RohitAmmanamanchi', 'KeishaLanceBottoms', 'JohnEaves',\\\n",
    "              'VincentFort', 'KwanzaHall', 'CeasarMitchell', 'MaryNorwood',\\\n",
    "              'MichaelSterling', 'CathyWoolard', 'GlennWrightson']\n",
    "# candidates = ['KeishaLanceBottoms', 'MaryNorwood', 'PeterAman',  \\\n",
    "#                'KwanzaHall', 'CeasarMitchell', 'CathyWoolard', 'VincentFort']\n",
    "scheme = {}\n",
    "for c in candidates:\n",
    "    scheme[c] = 'grey'\n",
    "scheme['KeishaLanceBottoms'] = 'blue'\n",
    "scheme['MaryNorwood'] = '#00007f'\n",
    "scheme['CathyWoolard'] = 'cyan'\n",
    "scheme['VincentFort'] = 'red'\n",
    "scheme['KwanzaHall'] = 'purple'\n",
    "scheme['CeasarMitchell'] = '#00df00'\n",
    "scheme['PeterAman'] = 'black'"
   ]
  },
  {
   "cell_type": "code",
   "execution_count": 2,
   "metadata": {
    "collapsed": true
   },
   "outputs": [],
   "source": [
    "results = {}\n",
    "results2 = {}\n",
    "with open(\"MayorResults2.csv\") as csvfile:\n",
    "    reader = csv.DictReader(csvfile)\n",
    "    for row in reader:\n",
    "        p = row['Precinct']\n",
    "        results[p] = {}\n",
    "        results[p][\"seen\"] = 0\n",
    "        for c in candidates:\n",
    "            results[p][c] = int(row[c])"
   ]
  },
  {
   "cell_type": "code",
   "execution_count": 3,
   "metadata": {
    "scrolled": false
   },
   "outputs": [
    {
     "name": "stdout",
     "output_type": "stream",
     "text": [
      "+proj=longlat +ellps=GRS80 +no_defs \n",
      "       AREA COUNTY COUNTY_NAM   CTYNAME CTYNUMBER CTYSOSID  DATA DISTRICT  \\\n",
      "0  1.864348    036   COLUMBIA  Columbia        36   073131   690   073131   \n",
      "1  1.636596    036   COLUMBIA  Columbia        36   073064   714   073064   \n",
      "2  5.598643    036   COLUMBIA  Columbia        36   073061   711   073061   \n",
      "3  0.872412    036   COLUMBIA  Columbia        36   073063   713   073063   \n",
      "4  3.783726    036   COLUMBIA  Columbia        36   073132   691   073132   \n",
      "\n",
      "   FIPS1 FIPS2       ID  POPULATION PRECINCT_I            PRECINCT_N  \\\n",
      "0  13073   073  6094217        1013        131  JOURNEY COMM. CHURCH   \n",
      "1  13073   073  6094266        3858        064  GRACE BAPTIST CHURCH   \n",
      "2  13073   073  6094297        1920        061       GREENBRIER HIGH   \n",
      "3  13073   073  6094341        1770        063  RIVERSIDE ELEMENTARY   \n",
      "4  13073   073  6094377        3131        132      WESLEY METHODIST   \n",
      "\n",
      "                                            geometry  \n",
      "0  POLYGON ((-82.14546199999999 33.57854, -82.145...  \n",
      "1  POLYGON ((-82.16342400000001 33.574227, -82.16...  \n",
      "2  POLYGON ((-82.16580999999999 33.564983, -82.16...  \n",
      "3  POLYGON ((-82.139089 33.575924, -82.139141 33....  \n",
      "4  POLYGON ((-82.14330200000001 33.573481, -82.14...  \n"
     ]
    }
   ],
   "source": [
    "blocks = ZipFile('VTD2016-Shape.zip')\n",
    "filenames = [y for y in sorted(blocks.namelist()) for ending in ['DBF', 'prj', 'shp', 'shx'] if y.endswith(ending)] \n",
    "dbf, prj, shp, shx = [io.BytesIO(blocks.read(filename)) for filename in filenames]\n",
    "\n",
    "r = shapefile.Reader(shp=shp, shx=shx, dbf=dbf)\n",
    "\n",
    "attributes, geometry = [], []\n",
    "field_names = [field[0] for field in r.fields[1:]]  \n",
    "for row in r.shapeRecords():  \n",
    "    geometry.append(shape(row.shape.__geo_interface__))  \n",
    "    attributes.append(dict(zip(field_names, row.record)))  \n",
    "\n",
    "proj4_string = osr.SpatialReference(prj.read().decode('UTF-8')).ExportToProj4()\n",
    "print(proj4_string)\n",
    "\n",
    "blockgdf = gpd.GeoDataFrame(data = attributes, geometry = geometry, crs = proj4_string)\n",
    "print(blockgdf.head())"
   ]
  },
  {
   "cell_type": "code",
   "execution_count": 4,
   "metadata": {},
   "outputs": [
    {
     "name": "stdout",
     "output_type": "stream",
     "text": [
      "  COUNTY_NAM            PRECINCT_N  \\\n",
      "0   COLUMBIA  JOURNEY COMM. CHURCH   \n",
      "1   COLUMBIA  GRACE BAPTIST CHURCH   \n",
      "2   COLUMBIA       GREENBRIER HIGH   \n",
      "3   COLUMBIA  RIVERSIDE ELEMENTARY   \n",
      "4   COLUMBIA      WESLEY METHODIST   \n",
      "\n",
      "                                            geometry  \n",
      "0  POLYGON ((-82.14546199999999 33.57854, -82.145...  \n",
      "1  POLYGON ((-82.16342400000001 33.574227, -82.16...  \n",
      "2  POLYGON ((-82.16580999999999 33.564983, -82.16...  \n",
      "3  POLYGON ((-82.139089 33.575924, -82.139141 33....  \n",
      "4  POLYGON ((-82.14330200000001 33.573481, -82.14...  \n"
     ]
    }
   ],
   "source": [
    "for col in blockgdf.columns:\n",
    "    if col not in ['PRECINCT_N', 'geometry', 'COUNTY_NAM']:\n",
    "        del blockgdf[col]\n",
    "print(blockgdf.head())"
   ]
  },
  {
   "cell_type": "code",
   "execution_count": 5,
   "metadata": {},
   "outputs": [
    {
     "name": "stdout",
     "output_type": "stream",
     "text": [
      "+proj=longlat +ellps=WGS84 +no_defs \n",
      "     ACRES                                GLOBALID  ID    LABEL  OBJECTID  \\\n",
      "0  86643.1  {6999F328-8F07-4EE0-BF8C-4DB531A3898C}   0  Atlanta         1   \n",
      "\n",
      "   OBJECTID_1    SHAPE_Area     SHAPE_Leng  SQ_MILES  \\\n",
      "0           1  5.087264e+08  195314.168371    135.38   \n",
      "\n",
      "                                            geometry  \n",
      "0  (POLYGON ((-84.42135081494511 33.6588738469827...  \n"
     ]
    }
   ],
   "source": [
    "atl = ZipFile('Atlanta_City_Limits.zip')\n",
    "filenames = [y for y in sorted(atl.namelist()) for ending in ['dbf', 'prj', 'shp', 'shx'] if y.endswith(ending)] \n",
    "dbf, prj, shp, shx = [io.BytesIO(atl.read(filename)) for filename in filenames]\n",
    "\n",
    "r = shapefile.Reader(shp=shp, shx=shx, dbf=dbf)\n",
    "\n",
    "attributes, geometry = [], []\n",
    "field_names = [field[0] for field in r.fields[1:]]  \n",
    "for row in r.shapeRecords():  \n",
    "    geometry.append(shape(row.shape.__geo_interface__))  \n",
    "    attributes.append(dict(zip(field_names, row.record)))  \n",
    "\n",
    "proj4_string = osr.SpatialReference(prj.read().decode('UTF-8')).ExportToProj4()\n",
    "print(proj4_string)\n",
    "\n",
    "atlgdf = gpd.GeoDataFrame(data = attributes, geometry = geometry, crs = proj4_string)\n",
    "print(atlgdf.head())"
   ]
  },
  {
   "cell_type": "code",
   "execution_count": 6,
   "metadata": {
    "scrolled": true
   },
   "outputs": [
    {
     "name": "stderr",
     "output_type": "stream",
     "text": [
      "Hole lies outside shell at or near point -85.053831000000002 33.557747999999997\n",
      "Self-intersection at or near point -83.815736999999999 31.134574000000001\n",
      "Self-intersection at or near point -84.298665 32.999670999999999\n",
      "Self-intersection at or near point -84.442705000000004 31.787783000000001\n",
      "Self-intersection at or near point -84.305204000000003 31.691058000000002\n",
      "Self-intersection at or near point -84.363215999999994 32.397649000000001\n",
      "Hole lies outside shell at or near point -82.318845999999994 31.190882999999999\n",
      "Nested shells at or near point -80.845720999999998 32.013809999999999\n",
      "Self-intersection at or near point -84.963710000000006 34.502453000000003\n",
      "Hole lies outside shell at or near point -84.939076999999997 34.481822000000001\n",
      "Hole lies outside shell at or near point -84.917072000000005 34.431766000000003\n",
      "Self-intersection at or near point -84.856515000000002 34.166567000000001\n",
      "Hole lies outside shell at or near point -85.131073000000001 34.213054999999997\n",
      "Hole lies outside shell at or near point -84.608041 34.014268000000001\n",
      "Hole lies outside shell at or near point -84.646835999999993 33.830506\n",
      "Hole lies outside shell at or near point -84.641441 33.809598999999999\n",
      "Hole lies outside shell at or near point -84.673226999999997 33.874189999999999\n",
      "Hole lies outside shell at or near point -84.694799000000003 34.049976999999998\n",
      "Self-intersection at or near point -84.609989999999996 33.617524000000003\n",
      "Hole lies outside shell at or near point -84.601320000000001 33.964942000000001\n",
      "Self-intersection at or near point -84.511115000000004 33.890655000000002\n",
      "Hole lies outside shell at or near point -84.557597999999999 33.982622999999997\n",
      "Hole lies outside shell at or near point -84.499859999999998 33.954397999999998\n",
      "Hole lies outside shell at or near point -84.498373000000001 33.941138000000002\n",
      "Hole lies outside shell at or near point -84.543028000000007 33.991587000000003\n",
      "Hole lies outside shell at or near point -84.607873999999995 33.993561999999997\n",
      "Self-intersection at or near point -84.551252000000005 33.856948000000003\n",
      "Hole lies outside shell at or near point -84.513368999999997 33.891008999999997\n",
      "Hole lies outside shell at or near point -84.584063999999998 33.918477000000003\n",
      "Hole lies outside shell at or near point -84.621996999999993 34.004098999999997\n",
      "Hole lies outside shell at or near point -84.630827999999994 34.064028999999998\n",
      "Self-intersection at or near point -84.533585000000002 33.986147000000003\n",
      "Hole lies outside shell at or near point -84.845819000000006 34.172792000000001\n",
      "Hole lies outside shell at or near point -84.003961000000004 33.654950999999997\n",
      "Nested shells at or near point -83.509190000000004 34.527540999999999\n",
      "c:\\program files (x86)\\python35-32\\lib\\site-packages\\ipykernel_launcher.py:4: SettingWithCopyWarning: \n",
      "A value is trying to be set on a copy of a slice from a DataFrame.\n",
      "Try using .loc[row_indexer,col_indexer] = value instead\n",
      "\n",
      "See the caveats in the documentation: http://pandas.pydata.org/pandas-docs/stable/indexing.html#indexing-view-versus-copy\n",
      "  after removing the cwd from sys.path.\n",
      "c:\\program files (x86)\\python35-32\\lib\\site-packages\\ipykernel_launcher.py:5: SettingWithCopyWarning: \n",
      "A value is trying to be set on a copy of a slice from a DataFrame.\n",
      "Try using .loc[row_indexer,col_indexer] = value instead\n",
      "\n",
      "See the caveats in the documentation: http://pandas.pydata.org/pandas-docs/stable/indexing.html#indexing-view-versus-copy\n",
      "  \"\"\"\n"
     ]
    },
    {
     "data": {
      "text/html": [
       "<div>\n",
       "<table border=\"1\" class=\"dataframe\">\n",
       "  <thead>\n",
       "    <tr style=\"text-align: right;\">\n",
       "      <th></th>\n",
       "      <th>COUNTY_NAM</th>\n",
       "      <th>PRECINCT_N</th>\n",
       "      <th>geometry</th>\n",
       "      <th>PeterAman</th>\n",
       "      <th>RohitAmmanamanchi</th>\n",
       "      <th>KeishaLanceBottoms</th>\n",
       "      <th>JohnEaves</th>\n",
       "      <th>VincentFort</th>\n",
       "      <th>KwanzaHall</th>\n",
       "      <th>CeasarMitchell</th>\n",
       "      <th>MaryNorwood</th>\n",
       "      <th>MichaelSterling</th>\n",
       "      <th>CathyWoolard</th>\n",
       "      <th>GlennWrightson</th>\n",
       "      <th>valid</th>\n",
       "    </tr>\n",
       "  </thead>\n",
       "  <tbody>\n",
       "    <tr>\n",
       "      <th>114</th>\n",
       "      <td>FULTON</td>\n",
       "      <td>11J</td>\n",
       "      <td>POLYGON ((-84.476449 33.697756, -84.4763970000...</td>\n",
       "      <td>0</td>\n",
       "      <td>0</td>\n",
       "      <td>0</td>\n",
       "      <td>0</td>\n",
       "      <td>0</td>\n",
       "      <td>0</td>\n",
       "      <td>0</td>\n",
       "      <td>0</td>\n",
       "      <td>0</td>\n",
       "      <td>0</td>\n",
       "      <td>0</td>\n",
       "      <td>1</td>\n",
       "    </tr>\n",
       "    <tr>\n",
       "      <th>1648</th>\n",
       "      <td>COBB</td>\n",
       "      <td>VININGS 01</td>\n",
       "      <td>POLYGON ((-84.45302100000001 33.881183, -84.45...</td>\n",
       "      <td>0</td>\n",
       "      <td>0</td>\n",
       "      <td>0</td>\n",
       "      <td>0</td>\n",
       "      <td>0</td>\n",
       "      <td>0</td>\n",
       "      <td>0</td>\n",
       "      <td>0</td>\n",
       "      <td>0</td>\n",
       "      <td>0</td>\n",
       "      <td>0</td>\n",
       "      <td>1</td>\n",
       "    </tr>\n",
       "    <tr>\n",
       "      <th>1649</th>\n",
       "      <td>FULTON</td>\n",
       "      <td>09F</td>\n",
       "      <td>POLYGON ((-84.4241 33.824959, -84.424060999999...</td>\n",
       "      <td>0</td>\n",
       "      <td>0</td>\n",
       "      <td>0</td>\n",
       "      <td>0</td>\n",
       "      <td>0</td>\n",
       "      <td>0</td>\n",
       "      <td>0</td>\n",
       "      <td>0</td>\n",
       "      <td>0</td>\n",
       "      <td>0</td>\n",
       "      <td>0</td>\n",
       "      <td>1</td>\n",
       "    </tr>\n",
       "    <tr>\n",
       "      <th>1650</th>\n",
       "      <td>FULTON</td>\n",
       "      <td>08N2</td>\n",
       "      <td>POLYGON ((-84.43034299999999 33.848989, -84.43...</td>\n",
       "      <td>0</td>\n",
       "      <td>0</td>\n",
       "      <td>0</td>\n",
       "      <td>0</td>\n",
       "      <td>0</td>\n",
       "      <td>0</td>\n",
       "      <td>0</td>\n",
       "      <td>0</td>\n",
       "      <td>0</td>\n",
       "      <td>0</td>\n",
       "      <td>0</td>\n",
       "      <td>1</td>\n",
       "    </tr>\n",
       "    <tr>\n",
       "      <th>1651</th>\n",
       "      <td>FULTON</td>\n",
       "      <td>08N1</td>\n",
       "      <td>POLYGON ((-84.413068 33.844147, -84.4131880000...</td>\n",
       "      <td>0</td>\n",
       "      <td>0</td>\n",
       "      <td>0</td>\n",
       "      <td>0</td>\n",
       "      <td>0</td>\n",
       "      <td>0</td>\n",
       "      <td>0</td>\n",
       "      <td>0</td>\n",
       "      <td>0</td>\n",
       "      <td>0</td>\n",
       "      <td>0</td>\n",
       "      <td>1</td>\n",
       "    </tr>\n",
       "  </tbody>\n",
       "</table>\n",
       "</div>"
      ],
      "text/plain": [
       "     COUNTY_NAM  PRECINCT_N  \\\n",
       "114      FULTON         11J   \n",
       "1648       COBB  VININGS 01   \n",
       "1649     FULTON         09F   \n",
       "1650     FULTON        08N2   \n",
       "1651     FULTON        08N1   \n",
       "\n",
       "                                               geometry  PeterAman  \\\n",
       "114   POLYGON ((-84.476449 33.697756, -84.4763970000...          0   \n",
       "1648  POLYGON ((-84.45302100000001 33.881183, -84.45...          0   \n",
       "1649  POLYGON ((-84.4241 33.824959, -84.424060999999...          0   \n",
       "1650  POLYGON ((-84.43034299999999 33.848989, -84.43...          0   \n",
       "1651  POLYGON ((-84.413068 33.844147, -84.4131880000...          0   \n",
       "\n",
       "      RohitAmmanamanchi  KeishaLanceBottoms  JohnEaves  VincentFort  \\\n",
       "114                   0                   0          0            0   \n",
       "1648                  0                   0          0            0   \n",
       "1649                  0                   0          0            0   \n",
       "1650                  0                   0          0            0   \n",
       "1651                  0                   0          0            0   \n",
       "\n",
       "      KwanzaHall  CeasarMitchell  MaryNorwood  MichaelSterling  CathyWoolard  \\\n",
       "114            0               0            0                0             0   \n",
       "1648           0               0            0                0             0   \n",
       "1649           0               0            0                0             0   \n",
       "1650           0               0            0                0             0   \n",
       "1651           0               0            0                0             0   \n",
       "\n",
       "      GlennWrightson  valid  \n",
       "114                0      1  \n",
       "1648               0      1  \n",
       "1649               0      1  \n",
       "1650               0      1  \n",
       "1651               0      1  "
      ]
     },
     "execution_count": 6,
     "metadata": {},
     "output_type": "execute_result"
    }
   ],
   "source": [
    "blockgdf = blockgdf[blockgdf.geometry.is_valid == True]\n",
    "fultongdf = blockgdf[blockgdf.geometry.intersects(atlgdf.geometry[0])]\n",
    "for can in candidates:\n",
    "    fultongdf[can] = list(0 for i in range(len(fultongdf.index)))\n",
    "fultongdf['valid'] = list(1 for i in range(len(fultongdf.index)))\n",
    "fultongdf.head()"
   ]
  },
  {
   "cell_type": "code",
   "execution_count": 7,
   "metadata": {
    "scrolled": true
   },
   "outputs": [
    {
     "name": "stderr",
     "output_type": "stream",
     "text": [
      "0it [00:00, ?it/s]c:\\program files (x86)\\python35-32\\lib\\site-packages\\pandas\\core\\indexing.py:465: SettingWithCopyWarning: \n",
      "A value is trying to be set on a copy of a slice from a DataFrame.\n",
      "Try using .loc[row_indexer,col_indexer] = value instead\n",
      "\n",
      "See the caveats in the documentation: http://pandas.pydata.org/pandas-docs/stable/indexing.html#indexing-view-versus-copy\n",
      "  self.obj[item] = s\n",
      "211it [00:01, 137.39it/s]\n",
      "c:\\program files (x86)\\python35-32\\lib\\site-packages\\ipykernel_launcher.py:26: SettingWithCopyWarning: \n",
      "A value is trying to be set on a copy of a slice from a DataFrame.\n",
      "Try using .loc[row_indexer,col_indexer] = value instead\n",
      "\n",
      "See the caveats in the documentation: http://pandas.pydata.org/pandas-docs/stable/indexing.html#indexing-view-versus-copy\n"
     ]
    },
    {
     "name": "stdout",
     "output_type": "stream",
     "text": [
      "166\n",
      "01G\n",
      "01I\n",
      "DRUID HILLS HIGH\n",
      "LAVISTA ROAD\n",
      "EMORY ROAD\n"
     ]
    }
   ],
   "source": [
    "c = 0\n",
    "tally = {}\n",
    "for can in candidates:\n",
    "    tally[can] = list(0 for i in range(len(fultongdf.index)))\n",
    "for i, row in tqdm(fultongdf.iterrows()):\n",
    "    pre = row['PRECINCT_N']\n",
    "    if pre in results:\n",
    "        results[pre][\"seen\"] = 1\n",
    "        for can in candidates:\n",
    "            tally[can][c] = results[pre][can]\n",
    "#         if len(results[pre]) > 0:\n",
    "#             for can in candidates:\n",
    "#                 fultongdf.loc[i,can] = float(results[pre][can])\n",
    "#             fultongdf.loc[i,'FortP'] = float(results[pre])\n",
    "#             fultongdf.loc[i,'Fort'] = float(results2[pre])\n",
    "#             fultongdf.loc[i,'FortA'] = float(results2[pre]) / row['AREA']\n",
    "#             if row['POPULATION'] == 0:\n",
    "#                 fultongdf.loc[i, 'FortPC'] = 0\n",
    "#             else:\n",
    "#                 fultongdf.loc[i,'FortPC'] = float(results2[pre]) / row['POPULATION']\n",
    "        c += 1\n",
    "    else:\n",
    "        fultongdf.loc[i,'valid'] = 0\n",
    "\n",
    "for can in candidates:\n",
    "    fultongdf[can] = tally[can]\n",
    "print(c)\n",
    "# \n",
    "missed = []\n",
    "for p in results:\n",
    "    if results[p][\"seen\"] == 0:\n",
    "        print(p)\n",
    "        missed.append(p)"
   ]
  },
  {
   "cell_type": "code",
   "execution_count": null,
   "metadata": {
    "collapsed": true,
    "scrolled": false
   },
   "outputs": [],
   "source": [
    "# for b in blockgdf[blockgdf[\"COUNTY_NAM\"] == \"DEKALB\"][\"PRECINCT_N\"]:\n",
    "#     print(b)\n",
    "\n",
    "# for i, row in (blockgdf[blockgdf.geometry.intersects(atlgdf.geometry[0])]).iterrows():\n",
    "#     if row[\"COUNTY_NAM\"] == \"DEKALB\":\n",
    "#         print(row[\"PRECINCT_N\"])"
   ]
  },
  {
   "cell_type": "code",
   "execution_count": null,
   "metadata": {},
   "outputs": [
    {
     "name": "stderr",
     "output_type": "stream",
     "text": [
      "\r",
      "  0%|                                                                                           | 0/11 [00:00<?, ?it/s]"
     ]
    },
    {
     "name": "stdout",
     "output_type": "stream",
     "text": [
      "PeterAman\n"
     ]
    },
    {
     "name": "stderr",
     "output_type": "stream",
     "text": [
      "\r",
      "  9%|███████▌                                                                           | 1/11 [00:00<00:09,  1.11it/s]"
     ]
    },
    {
     "name": "stdout",
     "output_type": "stream",
     "text": [
      "RohitAmmanamanchi\n",
      "KeishaLanceBottoms\n"
     ]
    },
    {
     "name": "stderr",
     "output_type": "stream",
     "text": [
      "\r",
      " 27%|██████████████████████▋                                                            | 3/11 [00:03<00:08,  1.02s/it]"
     ]
    },
    {
     "name": "stdout",
     "output_type": "stream",
     "text": [
      "JohnEaves\n"
     ]
    },
    {
     "name": "stderr",
     "output_type": "stream",
     "text": [
      "\r",
      " 36%|██████████████████████████████▏                                                    | 4/11 [00:03<00:05,  1.26it/s]"
     ]
    },
    {
     "name": "stdout",
     "output_type": "stream",
     "text": [
      "VincentFort\n"
     ]
    }
   ],
   "source": [
    "pts = {}\n",
    "for c in tqdm(candidates):\n",
    "    print(c)\n",
    "    pts[c] = census_mapper.gen_points_in_gdf_polys(geometry=fultongdf.geometry,\\\n",
    "                                            values=fultongdf[c],\\\n",
    "                                            points_per_value=5)"
   ]
  },
  {
   "cell_type": "code",
   "execution_count": null,
   "metadata": {},
   "outputs": [],
   "source": [
    "fultongdf = fultongdf[fultongdf['valid'] == 1]\n",
    "\n",
    "for c in tqdm(candidates):\n",
    "\n",
    "    plt.clf()\n",
    "\n",
    "    fig, ax = plt.subplots(figsize=(20,20))\n",
    "    #fultongdf.geometry.plot(color='none',ax = ax, edgecolor=\"0.8\")\n",
    "\n",
    "    pts[c].plot(color=scheme[c], marker='o', markeredgecolor='none', markersize=4, ax=ax, alpha=1)\n",
    "    #fultongdf.plot(ax = ax, column='FortP')\n",
    "\n",
    "\n",
    "    plt.tight_layout()\n",
    "    plt.axis(\"off\")\n",
    "    plt.xlim((-84.58,-84.28))\n",
    "    plt.ylim((33.62,33.92))\n",
    "\n",
    "    plt.savefig(\"img/\"+c+\".png\", transparent=True)"
   ]
  },
  {
   "cell_type": "code",
   "execution_count": null,
   "metadata": {
    "collapsed": true
   },
   "outputs": [],
   "source": [
    "fig, ax = plt.subplots(figsize=(20,20))\n",
    "fultongdf.geometry.plot(color='none',ax = ax, edgecolor=\"0.8\")\n",
    "\n",
    "\n",
    "\n",
    "plt.tight_layout()\n",
    "plt.axis(\"off\")\n",
    "plt.xlim((-84.58,-84.28))\n",
    "plt.ylim((33.62,33.92))\n",
    "\n",
    "plt.savefig(\"img/atl.png\", transparent=True)"
   ]
  },
  {
   "cell_type": "code",
   "execution_count": null,
   "metadata": {
    "scrolled": false
   },
   "outputs": [],
   "source": [
    "plt.clf()\n",
    "dek = blockgdf[blockgdf['COUNTY_NAM']==\"DEKALB\"]\n",
    "dek = dek[dek.geometry.intersects(atlgdf.geometry[0])]\n",
    "# dek['coords'] = dek['geometry'].apply(lambda x: x.representative_point().coords[:])\n",
    "# dek['coords'] = list([coords[0] for coords in c['coords']])\n",
    "dek.plot(figsize=(10, 10))\n",
    "for idx, row in dek.iterrows():\n",
    "    #print(dir(row.geometry.))\n",
    "    #print(dir(row['geometry'].centroid))\n",
    "    c = row['geometry'].centroid\n",
    "    plt.annotate(s=row['PRECINCT_N'], xy=(c.x, c.y))\n",
    "plt.show()\n",
    "dek"
   ]
  }
 ],
 "metadata": {
  "kernelspec": {
   "display_name": "Python 3",
   "language": "python",
   "name": "python3"
  },
  "language_info": {
   "codemirror_mode": {
    "name": "ipython",
    "version": 3
   },
   "file_extension": ".py",
   "mimetype": "text/x-python",
   "name": "python",
   "nbconvert_exporter": "python",
   "pygments_lexer": "ipython3",
   "version": "3.5.2"
  }
 },
 "nbformat": 4,
 "nbformat_minor": 2
}
